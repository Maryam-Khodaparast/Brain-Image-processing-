{
  "cells": [
    {
      "cell_type": "code",
      "execution_count": null,
      "metadata": {
        "id": "RJGsiM8bYFkN"
      },
      "outputs": [],
      "source": [
        "# Import all the necessary packages\n",
        "import numpy as np\n",
        "import nibabel as nib\n",
        "import itk\n",
        "import itkwidgets\n",
        "from ipywidgets import interact, interactive, IntSlider, ToggleButtons\n",
        "import matplotlib.pyplot as plt\n",
        "%matplotlib inline\n",
        "import seaborn as sns\n",
        "sns.set_style('darkgrid')"
      ]
    },
    {
      "cell_type": "markdown",
      "metadata": {
        "id": "gek1omDKYFkP"
      },
      "source": [
        "## 1. Explore the Data\n",
        "\n",
        "### 1.1 Loading Images of the Brain\n",
        "\n"
      ]
    },
    {
      "cell_type": "code",
      "execution_count": null,
      "metadata": {
        "id": "hKSGj4yJYFkQ",
        "outputId": "61b06a53-3023-44f4-b5f5-2dbc7e46a96d"
      },
      "outputs": [
        {
          "name": "stdout",
          "output_type": "stream",
          "text": [
            "Type of the image <class 'nibabel.nifti1.Nifti1Image'>\n"
          ]
        }
      ],
      "source": [
        "# Define the image path and load the data\n",
        "image_path = \"data/BraTS-Data/imagesTr/BRATS_001.nii.gz\"\n",
        "image_obj = nib.load(image_path)\n",
        "print(f'Type of the image {type(image_obj)}')"
      ]
    },
    {
      "cell_type": "markdown",
      "metadata": {
        "id": "bfo6JEgtYFkR"
      },
      "source": [
        "### 1.2 Extract the Data as a Numpy Array\n"
      ]
    },
    {
      "cell_type": "code",
      "execution_count": null,
      "metadata": {
        "scrolled": true,
        "id": "JS-X5mCqYFkS",
        "outputId": "f2f488fa-064f-4b17-8eb5-e4c14b75c04b"
      },
      "outputs": [
        {
          "name": "stdout",
          "output_type": "stream",
          "text": [
            "(240, 240, 155, 4)\n"
          ]
        }
      ],
      "source": [
        "# Extract data as numpy ndarray\n",
        "image_data = image_obj.get_fdata()\n",
        "type(image_data)\n",
        "print(image_data.shape)"
      ]
    },
    {
      "cell_type": "code",
      "execution_count": null,
      "metadata": {
        "id": "wOddH7l4YFkS",
        "outputId": "6c26268d-e950-4d6c-f4ad-74e16ece50f8"
      },
      "outputs": [
        {
          "name": "stdout",
          "output_type": "stream",
          "text": [
            "The image object has the following dimensions: height: 240, width:240, depth:155, channels:4\n"
          ]
        }
      ],
      "source": [
        "# Get the image shape and print it out\n",
        "height, width, depth, channels = image_data.shape\n",
        "print(f\"The image object has the following dimensions: height: {height}, width:{width}, depth:{depth}, channels:{channels}\")"
      ]
    },
    {
      "cell_type": "markdown",
      "metadata": {
        "id": "TkGoshZcYFkS"
      },
      "source": [
        "As you can see these \"image objects\" are actually 4 dimensional! With the exploratory steps below you'll get a better sense of exactly what each of these dimensions represents.\n",
        "\n",
        "### 1.3 Visualize the Data\n",
        "The \"depth\" listed above indicates that there are 155 layers (slices through the brain) in every image object. To visualize a single layer, run the cell below. Note that if the layer is one of the first or the last (`i` near 0 or 154), you won't find much information and the screen will be dark. Run this cell multiple times to look at different layers.\n",
        "The code is set up to grab a random layer but you can select a specific layer by choosing a value for `i` from 0 to 154.\n"
      ]
    },
    {
      "cell_type": "code",
      "execution_count": null,
      "metadata": {
        "id": "vz82tlMSYFkT",
        "outputId": "4e9fef89-ef85-4383-de80-9493acd31837"
      },
      "outputs": [
        {
          "name": "stdout",
          "output_type": "stream",
          "text": [
            "Plotting Layer 116 Channel 1 of Image\n"
          ]
        },
        {
          "data": {
            "image/png": "[encoded data removed]",
            "text/plain": [
              "<Figure size 432x288 with 1 Axes>"
            ]
          },
          "metadata": {},
          "output_type": "display_data"
        }
      ],
      "source": [
        "# Select random layer number\n",
        "maxval = 124\n",
        "i = np.random.randint(0, maxval)\n",
        "# Define a channel to look at\n",
        "channel =1\n",
        "print(f\"Plotting Layer {i} Channel {channel} of Image\")\n",
        "plt.imshow(image_data[:, :, i, channel], cmap='gray')\n",
        "plt.axis('off');"
      ]
    },
    {
      "cell_type": "markdown",
      "metadata": {
        "id": "P8tRfDXtYFkT"
      },
      "source": [
        "#### 1.3.1 Interactive Exploration\n",
        "Another way to visualize this dataset is by using IPython Widgets to allow for an interactive exploration of the data.\n"
      ]
    },
    {
      "cell_type": "code",
      "execution_count": null,
      "metadata": {
        "colab": {
          "referenced_widgets": [
            "0ba761c7f739447f98f36b763feef322"
          ]
        },
        "id": "UxJJIhQLYFkT",
        "outputId": "0b2df6ef-4e09-4ed9-8e46-82c705b4f349"
      },
      "outputs": [
        {
          "data": {
            "application/vnd.jupyter.widget-view+json": {
              "model_id": "0ba761c7f739447f98f36b763feef322",
              "version_major": 2,
              "version_minor": 0
            },
            "text/plain": [
              "interactive(children=(IntSlider(value=77, description='layer', max=154), Output()), _dom_classes=('widget-inte…"
            ]
          },
          "metadata": {},
          "output_type": "display_data"
        }
      ],
      "source": [
        "\n",
        "def explore_3dimage(layer):\n",
        "    plt.figure(figsize=(10, 5))\n",
        "    channel = 2\n",
        "    plt.imshow(image_data[:, :, layer, channel], cmap='gray')\n",
        "    plt.title(f'Explore Layer {layer}, Channel {channel} of Brain MRI', fontsize=20)\n",
        "    plt.axis('off')\n",
        "    plt.show()\n",
        "    return layer\n",
        "\n",
        "# Use widgets.IntSlider for better control\n",
        "layer_slider = widgets.IntSlider(value=0, min=0, max=image_data.shape[2] - 1, step=1, description='Layer')\n",
        "\n",
        "# Run the ipywidgets interact() function to explore the data\n",
        "interact(explore_3dimage, layer=layer_slider);\n",
        "\n"
      ]
    },
    {
      "cell_type": "markdown",
      "metadata": {
        "id": "zskEbhGqYFkU"
      },
      "source": [
        "## 2. Explore the Data Labels\n",
        "In this section, we'll read in a new dataset containing the labels for the MRI scan you loaded above.\n"
      ]
    },
    {
      "cell_type": "code",
      "execution_count": null,
      "metadata": {
        "id": "DEg4ZkYeYFkU",
        "outputId": "41666b00-dfbe-42ea-d65c-f6226d6371b4"
      },
      "outputs": [
        {
          "data": {
            "text/plain": [
              "nibabel.nifti1.Nifti1Image"
            ]
          },
          "execution_count": 10,
          "metadata": {},
          "output_type": "execute_result"
        }
      ],
      "source": [
        "# Define the data path and load the data\n",
        "label_path = \"data/BraTS-Data/labelsTr/BRATS_001.nii.gz\"\n",
        "label_obj = nib.load(label_path)\n",
        "type(label_obj)"
      ]
    },
    {
      "cell_type": "markdown",
      "metadata": {
        "id": "sGlm5F7JYFkU"
      },
      "source": [
        "### 2.1 Extract the Data Labels as a Numpy Array\n",
        "Run the next cell to extract the data labels using the `get_fdata()` method of the image object"
      ]
    },
    {
      "cell_type": "code",
      "execution_count": null,
      "metadata": {
        "id": "xISfi3GtYFkU",
        "outputId": "9fab2274-7a3c-4ebd-a4a2-70a8ae49daa7"
      },
      "outputs": [
        {
          "data": {
            "text/plain": [
              "numpy.ndarray"
            ]
          },
          "execution_count": 11,
          "metadata": {},
          "output_type": "execute_result"
        }
      ],
      "source": [
        "# Extract data labels\n",
        "label_array = label_obj.get_fdata()\n",
        "type(label_array)"
      ]
    },
    {
      "cell_type": "code",
      "execution_count": null,
      "metadata": {
        "id": "fpZvF2jgYFkV",
        "outputId": "fa80cf7d-e681-424e-d5a2-1fe1e3edeb9a"
      },
      "outputs": [
        {
          "name": "stdout",
          "output_type": "stream",
          "text": [
            "Dimensions of labels data array height: 240, width: 240, depth: 155\n",
            "With the unique values: [0. 1. 2. 3.]\n",
            "Corresponding to the following label categories: \n",
            "0: for normal \n",
            "1: for edema\n",
            "2: for non-enhancing tumor \n",
            "3: for enhancing tumor\n"
          ]
        }
      ],
      "source": [
        "# Extract and print out the shape of the labels data\n",
        "height, width, depth = label_array.shape\n",
        "print(f\"Dimensions of labels data array height: {height}, width: {width}, depth: {depth}\")\n",
        "print(f'With the unique values: {np.unique(label_array)}')\n",
        "print(\"\"\"Corresponding to the following label categories:\n",
        "0: for normal\n",
        "1: for edema\n",
        "2: for non-enhancing tumor\n",
        "3: for enhancing tumor\"\"\")\n"
      ]
    },
    {
      "cell_type": "markdown",
      "metadata": {
        "id": "pQbWWDzVYFkV"
      },
      "source": [
        "### 2.2 Visualize the Labels for a Specific Layer\n"
      ]
    },
    {
      "cell_type": "code",
      "execution_count": null,
      "metadata": {
        "id": "HNjZPqcpYFkV",
        "outputId": "871290aa-82d3-4cd9-d7b4-6eb961f8cd52"
      },
      "outputs": [
        {
          "data": {
            "image/png": "[encoded data removed]",
            "text/plain": [
              "<Figure size 3600x2160 with 4 Axes>"
            ]
          },
          "metadata": {},
          "output_type": "display_data"
        }
      ],
      "source": [
        "# Set up for plotting\n",
        "fig, ax = plt.subplots(nrows=1, ncols=4, figsize=(50, 30))\n",
        "for i, (img_label_str, class_value) in enumerate(classes_dict.items()):\n",
        "    img = label_array[:, :, layer]\n",
        "    mask = np.where(img == class_value, 255, 0)\n",
        "    ax[i].imshow(mask)\n",
        "    ax[i].set_title(f\"Layer {layer} for {img_label_str}\", fontsize=45)\n",
        "    ax[i].axis('off')\n",
        "plt.tight_layout()\n"
      ]
    },
    {
      "cell_type": "markdown",
      "metadata": {
        "id": "JUFVITzSYFkW"
      },
      "source": [
        "#### 2.2.1 Interactive Visualization Across Layers\n",
        "As another way of looking at the data, run the code below to create a visualization where you can choose the class you want to look at by clicking a button to choose a particular label and scrolling across layers using the slider!"
      ]
    },
    {
      "cell_type": "code",
      "execution_count": null,
      "metadata": {
        "colab": {
          "referenced_widgets": [
            "39eadbac88d5489aa2636c113ba4669c"
          ]
        },
        "id": "_G0uGcXOYFkW",
        "outputId": "e36e5544-73f8-4acc-e56c-60dfb1b9006a"
      },
      "outputs": [
        {
          "data": {
            "application/vnd.jupyter.widget-view+json": {
              "model_id": "39eadbac88d5489aa2636c113ba4669c",
              "version_major": 2,
              "version_minor": 0
            },
            "text/plain": [
              "interactive(children=(ToggleButtons(button_style='info', description='Select Class:', options=('Normal', 'Edem…"
            ]
          },
          "metadata": {},
          "output_type": "display_data"
        }
      ],
      "source": [
        "# Create button values\n",
        "select_class = ToggleButtons(\n",
        "    options=['Normal','Edema', 'Non-enhancing tumor', 'Enhancing tumor'],\n",
        "    description='Select Class:',\n",
        "    disabled=False,\n",
        "    button_style='info',\n",
        "\n",
        ")\n",
        "# Create layer slider\n",
        "select_layer = IntSlider(min=0, max=154, description='Select Layer', continuous_update=False)\n",
        "\n",
        "\n",
        "# Define a function for plotting images\n",
        "def plot_image(seg_class, layer):\n",
        "    print(f\"Plotting {layer} Layer Label: {seg_class}\")\n",
        "    img_label = classes_dict[seg_class]\n",
        "    mask = np.where(label_array[:,:,layer] == img_label, 255, 0)\n",
        "    plt.figure(figsize=(10,5))\n",
        "    plt.imshow(mask, cmap='gray')\n",
        "    plt.axis('off');\n",
        "\n",
        "# Use the interactive() tool to create the visualization\n",
        "interactive(plot_image, seg_class=select_class, layer=select_layer)"
      ]
    }
  ],
  "metadata": {
    "kernelspec": {
      "display_name": "Python 3",
      "language": "python",
      "name": "python3"
    },
    "language_info": {
      "codemirror_mode": {
        "name": "ipython",
        "version": 3
      },
      "file_extension": ".py",
      "mimetype": "text/x-python",
      "name": "python",
      "nbconvert_exporter": "python",
      "pygments_lexer": "ipython3",
      "version": "3.6.3"
    },
    "colab": {
      "provenance": []
    }
  },
  "nbformat": 4,
  "nbformat_minor": 0
}